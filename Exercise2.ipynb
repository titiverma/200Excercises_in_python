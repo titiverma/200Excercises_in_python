{
  "nbformat": 4,
  "nbformat_minor": 0,
  "metadata": {
    "colab": {
      "name": "Exercise2.ipynb",
      "provenance": [],
      "authorship_tag": "ABX9TyNaQ7EOeuyyUOUspDMD/L01",
      "include_colab_link": true
    },
    "kernelspec": {
      "name": "python3",
      "display_name": "Python 3"
    },
    "language_info": {
      "name": "python"
    }
  },
  "cells": [
    {
      "cell_type": "markdown",
      "metadata": {
        "id": "view-in-github",
        "colab_type": "text"
      },
      "source": [
        "<a href=\"https://colab.research.google.com/github/titiverma/200Excercises_in_python/blob/Force/Exercise2.ipynb\" target=\"_parent\"><img src=\"https://colab.research.google.com/assets/colab-badge.svg\" alt=\"Open In Colab\"/></a>"
      ]
    },
    {
      "cell_type": "code",
      "metadata": {
        "colab": {
          "base_uri": "https://localhost:8080/"
        },
        "id": "pvyP5Y0HAxIK",
        "outputId": "8bdfaf7a-ec29-46ce-8677-dfe3cb54a3bd"
      },
      "source": [
        "age = 20 \n",
        "print(f\"I am {age} years old.\")"
      ],
      "execution_count": 4,
      "outputs": [
        {
          "output_type": "stream",
          "text": [
            "I am 20 years old.\n"
          ],
          "name": "stdout"
        }
      ]
    },
    {
      "cell_type": "markdown",
      "metadata": {
        "id": "zDnKu6AKCVRL"
      },
      "source": [
        "Here 'f' refers to the f-strings in python. It is a new string formatting in mechanism known as LITERAL STRING INTERPOLATION. \n",
        "Idea behind F- string is to make string interpolation simpler.\n",
        "To create an f-string, prefix the string with the letter “ f ”. The string itself can be formatted in much the same way that you would with str.format(). F-strings provide a concise and convenient way to embed python expressions inside string literals for formatting. \n",
        "\n",
        "STRING INTERPOLATION\n",
        "String interpolation is a process of injecting value into a placeholder (a placeholder is nothing but a variable to which you can assign data/value later) in a string literal. It helps in dynamically formatting the output in a fancier way. Python supports multiple ways to format string literals."
      ]
    },
    {
      "cell_type": "code",
      "metadata": {
        "id": "VftBn9HmA-3g"
      },
      "source": [
        ""
      ],
      "execution_count": null,
      "outputs": []
    }
  ]
}