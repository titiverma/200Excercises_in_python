{
  "nbformat": 4,
  "nbformat_minor": 0,
  "metadata": {
    "colab": {
      "name": "slicing_Exercise1to4.ipynb",
      "provenance": [],
      "authorship_tag": "ABX9TyN2ubIlz/XfG6cqYbM+CuYW",
      "include_colab_link": true
    },
    "kernelspec": {
      "name": "python3",
      "display_name": "Python 3"
    },
    "language_info": {
      "name": "python"
    }
  },
  "cells": [
    {
      "cell_type": "markdown",
      "metadata": {
        "id": "view-in-github",
        "colab_type": "text"
      },
      "source": [
        "<a href=\"https://colab.research.google.com/github/titiverma/200Excercises_in_python/blob/Force/slicing_Exercise1to4.ipynb\" target=\"_parent\"><img src=\"https://colab.research.google.com/assets/colab-badge.svg\" alt=\"Open In Colab\"/></a>"
      ]
    },
    {
      "cell_type": "markdown",
      "metadata": {
        "id": "2Gb3W87Codm5"
      },
      "source": [
        "Exercise 1\n"
      ]
    },
    {
      "cell_type": "code",
      "metadata": {
        "colab": {
          "base_uri": "https://localhost:8080/"
        },
        "id": "Pn6HNBo_ofLf",
        "outputId": "79ce1ee4-0686-41b0-8ab6-2e7291e95b5b"
      },
      "source": [
        "filename = 'view.jpg'\n",
        "print(filename[-3:])"
      ],
      "execution_count": null,
      "outputs": [
        {
          "output_type": "stream",
          "text": [
            "jpg\n"
          ],
          "name": "stdout"
        }
      ]
    },
    {
      "cell_type": "markdown",
      "metadata": {
        "id": "_1ttmfOOocxb"
      },
      "source": [
        "Exercise 2"
      ]
    },
    {
      "cell_type": "code",
      "metadata": {
        "colab": {
          "base_uri": "https://localhost:8080/"
        },
        "id": "aFLf28qqooSL",
        "outputId": "d5b9a2e9-6666-453c-e2df-af570abdc628"
      },
      "source": [
        "string = 'PKV-89415-PLN'\n",
        "first = string[0:3]\n",
        "last = string[-3:]\n",
        "print(f\"{first}{last}\")"
      ],
      "execution_count": null,
      "outputs": [
        {
          "output_type": "stream",
          "text": [
            "PKVPLN\n"
          ],
          "name": "stdout"
        }
      ]
    },
    {
      "cell_type": "markdown",
      "metadata": {
        "id": "tSEvd9jEooze"
      },
      "source": [
        "Exercise 3"
      ]
    },
    {
      "cell_type": "code",
      "metadata": {
        "colab": {
          "base_uri": "https://localhost:8080/"
        },
        "id": "tPdVQV5Jop5t",
        "outputId": "7973ab3d-6731-44d2-baea-2f1744e6e783"
      },
      "source": [
        "string = '1 0 0 1 0 1'\n",
        "binary = string[::2]\n",
        "integer = int(binary,2)\n",
        "print(f\"Number found: {integer}\")\n"
      ],
      "execution_count": null,
      "outputs": [
        {
          "output_type": "stream",
          "text": [
            "Number found: 37\n"
          ],
          "name": "stdout"
        }
      ]
    },
    {
      "cell_type": "markdown",
      "metadata": {
        "id": "35cD7Ozfoqd5"
      },
      "source": [
        "Exercise 4"
      ]
    },
    {
      "cell_type": "code",
      "metadata": {
        "colab": {
          "base_uri": "https://localhost:8080/"
        },
        "id": "UeYXap8sorsW",
        "outputId": "0eae74e1-150f-40dd-a810-f7cd85b8b134"
      },
      "source": [
        "text = 'Python Course'\n",
        "print(text[::-1])"
      ],
      "execution_count": null,
      "outputs": [
        {
          "output_type": "stream",
          "text": [
            "esruoC nohtyP\n"
          ],
          "name": "stdout"
        }
      ]
    }
  ]
}