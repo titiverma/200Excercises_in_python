{
  "nbformat": 4,
  "nbformat_minor": 0,
  "metadata": {
    "colab": {
      "name": "Exercise1-10.ipynb",
      "provenance": [],
      "authorship_tag": "ABX9TyP04CnNTDggNQzBHfUIPi9m",
      "include_colab_link": true
    },
    "kernelspec": {
      "name": "python3",
      "display_name": "Python 3"
    },
    "language_info": {
      "name": "python"
    }
  },
  "cells": [
    {
      "cell_type": "markdown",
      "metadata": {
        "id": "view-in-github",
        "colab_type": "text"
      },
      "source": [
        "<a href=\"https://colab.research.google.com/github/titiverma/200Excercises_in_python/blob/Force/Exercise1_to_10.ipynb\" target=\"_parent\"><img src=\"https://colab.research.google.com/assets/colab-badge.svg\" alt=\"Open In Colab\"/></a>"
      ]
    },
    {
      "cell_type": "markdown",
      "metadata": {
        "id": "mvP7dLFArpSJ"
      },
      "source": [
        "Exercise 1"
      ]
    },
    {
      "cell_type": "code",
      "metadata": {
        "colab": {
          "base_uri": "https://localhost:8080/"
        },
        "id": "5BWicof6AGlE",
        "outputId": "7d44c6be-9dd6-4f8d-b0b7-916cdb613190"
      },
      "source": [
        "print(\"Learn Python!\")"
      ],
      "execution_count": null,
      "outputs": [
        {
          "output_type": "stream",
          "text": [
            "Learn Python!\n"
          ],
          "name": "stdout"
        }
      ]
    },
    {
      "cell_type": "markdown",
      "metadata": {
        "id": "uprSMl-ArsI8"
      },
      "source": [
        "Exercise 2"
      ]
    },
    {
      "cell_type": "code",
      "metadata": {
        "colab": {
          "base_uri": "https://localhost:8080/"
        },
        "id": "eJp6thLKrvxV",
        "outputId": "8e7cc99d-f236-4590-f5fb-c27f149b541e"
      },
      "source": [
        "age = 20\n",
        "print(f\"I am {age} years old.\")"
      ],
      "execution_count": 1,
      "outputs": [
        {
          "output_type": "stream",
          "text": [
            "I am 20 years old.\n"
          ],
          "name": "stdout"
        }
      ]
    },
    {
      "cell_type": "markdown",
      "metadata": {
        "id": "bW-URmCqr4Ov"
      },
      "source": [
        "Exercise 3"
      ]
    },
    {
      "cell_type": "code",
      "metadata": {
        "colab": {
          "base_uri": "https://localhost:8080/"
        },
        "id": "wpWSNOl9r-a-",
        "outputId": "a8c000cb-6720-4380-ac32-84ffa053831b"
      },
      "source": [
        "a = 'Python'\n",
        "b = '3.8'\n",
        "print(f\"I am learning {a} version {b}\")"
      ],
      "execution_count": 2,
      "outputs": [
        {
          "output_type": "stream",
          "text": [
            "I am learning Python version 3.8\n"
          ],
          "name": "stdout"
        }
      ]
    },
    {
      "cell_type": "markdown",
      "metadata": {
        "id": "IQuZNv_VsDU7"
      },
      "source": [
        "Exercise 4"
      ]
    },
    {
      "cell_type": "code",
      "metadata": {
        "colab": {
          "base_uri": "https://localhost:8080/"
        },
        "id": "tRB5WJxVsBsZ",
        "outputId": "f2effe51-443e-40e0-b512-3df27bf6f372"
      },
      "source": [
        "price =  199.99\n",
        "print('This costs', price)"
      ],
      "execution_count": 3,
      "outputs": [
        {
          "output_type": "stream",
          "text": [
            "This costs 199.99\n"
          ],
          "name": "stdout"
        }
      ]
    },
    {
      "cell_type": "markdown",
      "metadata": {
        "id": "N_f1TztpsLE7"
      },
      "source": [
        "Exercise 5"
      ]
    },
    {
      "cell_type": "code",
      "metadata": {
        "colab": {
          "base_uri": "https://localhost:8080/"
        },
        "id": "ROTHtAijsiif",
        "outputId": "69871c27-c46b-45cb-dc9a-c3a40d7e5ddf"
      },
      "source": [
        "price = 69.99\n",
        "print(f'This costs {price}')"
      ],
      "execution_count": 4,
      "outputs": [
        {
          "output_type": "stream",
          "text": [
            "This costs 69.99\n"
          ],
          "name": "stdout"
        }
      ]
    },
    {
      "cell_type": "markdown",
      "metadata": {
        "id": "39WgM4hRsO5f"
      },
      "source": [
        "Exercise 6"
      ]
    },
    {
      "cell_type": "code",
      "metadata": {
        "colab": {
          "base_uri": "https://localhost:8080/"
        },
        "id": "iWgGfkKrsnSr",
        "outputId": "56cd547b-1a8a-4be8-8146-c614797289a6"
      },
      "source": [
        "price = 34.99\n",
        "weight = 20\n",
        "print(f\"Price: ${price}. Weight: {weight} lbs.\")"
      ],
      "execution_count": 5,
      "outputs": [
        {
          "output_type": "stream",
          "text": [
            "Price: $34.99. Weight: 20 lbs.\n"
          ],
          "name": "stdout"
        }
      ]
    },
    {
      "cell_type": "markdown",
      "metadata": {
        "id": "CwdcavBNsZVg"
      },
      "source": [
        "Exercise 7"
      ]
    },
    {
      "cell_type": "code",
      "metadata": {
        "colab": {
          "base_uri": "https://localhost:8080/"
        },
        "id": "ioIo-TsitaXg",
        "outputId": "c7d69def-83ec-40ab-90fc-394c09e61dc7"
      },
      "source": [
        "pi = 3.1415926535\n",
        "print(f\"Pi: {pi:.2f}\")"
      ],
      "execution_count": 7,
      "outputs": [
        {
          "output_type": "stream",
          "text": [
            "Pi: 3.14\n"
          ],
          "name": "stdout"
        }
      ]
    },
    {
      "cell_type": "markdown",
      "metadata": {
        "id": "CDBCdkUWsbf_"
      },
      "source": [
        "Exercise 8"
      ]
    },
    {
      "cell_type": "code",
      "metadata": {
        "colab": {
          "base_uri": "https://localhost:8080/"
        },
        "id": "KBGjSwUota3-",
        "outputId": "faa536a2-dea2-4752-cd0f-c855f608df25"
      },
      "source": [
        "print(\"-\"*40)\n",
        "print(\"VERSION: 1.0.1\")\n",
        "print(\"-\"*40)"
      ],
      "execution_count": 10,
      "outputs": [
        {
          "output_type": "stream",
          "text": [
            "----------------------------------------\n",
            "VERSION: 1.0.1\n",
            "----------------------------------------\n"
          ],
          "name": "stdout"
        }
      ]
    },
    {
      "cell_type": "markdown",
      "metadata": {
        "id": "owa0_Jn-sdsg"
      },
      "source": [
        "Exercise 9"
      ]
    },
    {
      "cell_type": "code",
      "metadata": {
        "colab": {
          "base_uri": "https://localhost:8080/"
        },
        "id": "KUhQ9vXstbeO",
        "outputId": "8412ab04-1cd7-40ea-d822-dab7ca107530"
      },
      "source": [
        "print(\"=\"*40)\n",
        "print(\"author: johnsmith@sample.com\")\n",
        "print(\"date: 01-01-2021\")\n",
        "print(\"=\"*40)"
      ],
      "execution_count": 11,
      "outputs": [
        {
          "output_type": "stream",
          "text": [
            "========================================\n",
            "author: johnsmith@sample.com\n",
            "date: 01-01-2021\n",
            "========================================\n"
          ],
          "name": "stdout"
        }
      ]
    },
    {
      "cell_type": "markdown",
      "metadata": {
        "id": "Oip3PtvFsfFH"
      },
      "source": [
        "Exercise 10 "
      ]
    },
    {
      "cell_type": "code",
      "metadata": {
        "colab": {
          "base_uri": "https://localhost:8080/"
        },
        "id": "fqZ5ZAKHsgbH",
        "outputId": "7dc6cf24-d306-4648-8545-c5e854d37591"
      },
      "source": [
        "print(\"summer\",\"time\",\"holiday\", sep =\"#\")"
      ],
      "execution_count": 9,
      "outputs": [
        {
          "output_type": "stream",
          "text": [
            "summer#time#holiday\n"
          ],
          "name": "stdout"
        }
      ]
    }
  ]
}