{
  "nbformat": 4,
  "nbformat_minor": 0,
  "metadata": {
    "colab": {
      "name": "Calculations_in_python_Exercise_1_to_12-.ipynb",
      "provenance": [],
      "authorship_tag": "ABX9TyMXI3QGsDateuf4WtBQBxTJ",
      "include_colab_link": true
    },
    "kernelspec": {
      "name": "python3",
      "display_name": "Python 3"
    },
    "language_info": {
      "name": "python"
    }
  },
  "cells": [
    {
      "cell_type": "markdown",
      "metadata": {
        "id": "view-in-github",
        "colab_type": "text"
      },
      "source": [
        "<a href=\"https://colab.research.google.com/github/titiverma/200Excercises_in_python/blob/Force/Calculations_in_python_Exercise_1_to_12_.ipynb\" target=\"_parent\"><img src=\"https://colab.research.google.com/assets/colab-badge.svg\" alt=\"Open In Colab\"/></a>"
      ]
    },
    {
      "cell_type": "markdown",
      "metadata": {
        "id": "dN2tV3kav7I8"
      },
      "source": [
        "Exercise 1"
      ]
    },
    {
      "cell_type": "code",
      "metadata": {
        "colab": {
          "base_uri": "https://localhost:8080/"
        },
        "id": "T4cfigijupWK",
        "outputId": "04aaaa6c-4c1e-41c1-ee73-dbeec620abb4"
      },
      "source": [
        "pi = 3.14\n",
        "r = 5\n",
        "Area = pi*r*r\n",
        "print(f\"Area: {Area}\")"
      ],
      "execution_count": 1,
      "outputs": [
        {
          "output_type": "stream",
          "text": [
            "Area: 78.5\n"
          ],
          "name": "stdout"
        }
      ]
    },
    {
      "cell_type": "markdown",
      "metadata": {
        "id": "HJV3K7DZv6Qv"
      },
      "source": [
        "Exercise 2"
      ]
    },
    {
      "cell_type": "code",
      "metadata": {
        "colab": {
          "base_uri": "https://localhost:8080/"
        },
        "id": "grkKdPfsv7yY",
        "outputId": "715c7320-4547-42a0-be4f-71bb42fe5b3a"
      },
      "source": [
        "p = 1000\n",
        "r = 0.03\n",
        "t = 5\n",
        "a = p*(1+r)**t\n",
        "print(f\"The future value of the investment: {a:.2f} USD\")"
      ],
      "execution_count": 2,
      "outputs": [
        {
          "output_type": "stream",
          "text": [
            "The future value of the investment: 1159.27 USD\n"
          ],
          "name": "stdout"
        }
      ]
    },
    {
      "cell_type": "markdown",
      "metadata": {
        "id": "EBSBIuhcv8FY"
      },
      "source": [
        "Exercise 3"
      ]
    },
    {
      "cell_type": "code",
      "metadata": {
        "colab": {
          "base_uri": "https://localhost:8080/"
        },
        "id": "vrLTOJilv-CL",
        "outputId": "bde0a57a-7c54-46dd-8b49-4bb373199cb7"
      },
      "source": [
        "b = -4\n",
        "a = 3\n",
        "c = 1\n",
        "d = b**2 - 4*a*c\n",
        "print(f\"Delta: {d}\")"
      ],
      "execution_count": 3,
      "outputs": [
        {
          "output_type": "stream",
          "text": [
            "Delta: 4\n"
          ],
          "name": "stdout"
        }
      ]
    },
    {
      "cell_type": "markdown",
      "metadata": {
        "id": "Ag_5PMGkv-aQ"
      },
      "source": [
        "Exercise 4"
      ]
    },
    {
      "cell_type": "code",
      "metadata": {
        "colab": {
          "base_uri": "https://localhost:8080/"
        },
        "id": "PHR706Mxv-9E",
        "outputId": "d338d3b8-d3f9-4d4b-c3fe-8fce6ec42f22"
      },
      "source": [
        "a1 = 14.0\n",
        "a10 = 50.0\n",
        "sum = 5.0*(a1+a10)\n",
        "print(f\"The sum of the first 10 elements in a sequence: {sum}\")"
      ],
      "execution_count": 4,
      "outputs": [
        {
          "output_type": "stream",
          "text": [
            "The sum of the first 10 elements in a sequence: 320.0\n"
          ],
          "name": "stdout"
        }
      ]
    },
    {
      "cell_type": "markdown",
      "metadata": {
        "id": "vVA7vA2Cv_Xg"
      },
      "source": [
        "Exercise 5"
      ]
    },
    {
      "cell_type": "code",
      "metadata": {
        "colab": {
          "base_uri": "https://localhost:8080/"
        },
        "id": "488ochFzv_rn",
        "outputId": "8341fc4d-edbc-44c2-a055-8997777e24b4"
      },
      "source": [
        "a = 8.0\n",
        "r = 2\n",
        "n = 6\n",
        "s6 = (a*(r**n -1))/(r-1)\n",
        "print(f\"The sum of the first 6 elements of the sequence is: {s6}\")"
      ],
      "execution_count": 5,
      "outputs": [
        {
          "output_type": "stream",
          "text": [
            "The sum of the first 6 elements of the sequence is: 504.0\n"
          ],
          "name": "stdout"
        }
      ]
    },
    {
      "cell_type": "markdown",
      "metadata": {
        "id": "NayrLiBwwASs"
      },
      "source": [
        "Exercise 6"
      ]
    },
    {
      "cell_type": "code",
      "metadata": {
        "colab": {
          "base_uri": "https://localhost:8080/"
        },
        "id": "gINr2EO8wAkO",
        "outputId": "3ca0dacc-007d-4728-d784-ee0e758c0932"
      },
      "source": [
        "a = 1\n",
        "b = 5\n",
        "c = 4\n",
        "sum_of_roots = float(-b/a)\n",
        "product_of_roots = float(c/a)\n",
        "print(f\"x1 + x2 = {sum_of_roots}\")\n",
        "print(f\"x1x2 = {product_of_roots}\")"
      ],
      "execution_count": 6,
      "outputs": [
        {
          "output_type": "stream",
          "text": [
            "x1 + x2 = -5.0\n",
            "x1x2 = 4.0\n"
          ],
          "name": "stdout"
        }
      ]
    },
    {
      "cell_type": "markdown",
      "metadata": {
        "id": "-2BpKySxwA4T"
      },
      "source": [
        "Exercise 7"
      ]
    },
    {
      "cell_type": "code",
      "metadata": {
        "colab": {
          "base_uri": "https://localhost:8080/"
        },
        "id": "rNij7KRDwBUv",
        "outputId": "d8700718-2191-4f95-ba51-949ae78cc49f"
      },
      "source": [
        "a1 = 2\n",
        "b1 = 4\n",
        "a2 = -4\n",
        "b2 = 6\n",
        "midpointa = (a1+a2)/2\n",
        "midpointb = (b1+b2)/2\n",
        "print(f\"The middle point: ({midpointa}, {midpointb})\")"
      ],
      "execution_count": 7,
      "outputs": [
        {
          "output_type": "stream",
          "text": [
            "The middle point: (-1.0, 5.0)\n"
          ],
          "name": "stdout"
        }
      ]
    },
    {
      "cell_type": "markdown",
      "metadata": {
        "id": "kKV72VtHwBxz"
      },
      "source": [
        "Exercise 8"
      ]
    },
    {
      "cell_type": "code",
      "metadata": {
        "colab": {
          "base_uri": "https://localhost:8080/"
        },
        "id": "-yqk1LJOwCCs",
        "outputId": "5a04e49d-cbdc-4cec-e079-a095c34c5a42"
      },
      "source": [
        "a1 = 3\n",
        "a2 = -1\n",
        "b1 = 2\n",
        "b2 = -1\n",
        "d1 = (a1 - a2)**2\n",
        "d2 = (b1-b2)**2\n",
        "d = (d1+d2)**(0.5)\n",
        "print(f\"The distance between points A and B: {d}\")"
      ],
      "execution_count": 8,
      "outputs": [
        {
          "output_type": "stream",
          "text": [
            "The distance between points A and B: 5.0\n"
          ],
          "name": "stdout"
        }
      ]
    },
    {
      "cell_type": "markdown",
      "metadata": {
        "id": "C0cTnEGwwCTL"
      },
      "source": [
        "Exercise 9"
      ]
    },
    {
      "cell_type": "code",
      "metadata": {
        "colab": {
          "base_uri": "https://localhost:8080/"
        },
        "id": "P7DrBwc_wCkT",
        "outputId": "ed30e6a0-b9cb-423a-f7fd-d0bb613b9008"
      },
      "source": [
        "b = 5\n",
        "a = 1\n",
        "c = 4\n",
        "d = b**2 - 4*a*c\n",
        "r1 = (-b + (d)**0.5)/2\n",
        "r2 = (-b - (d)**0.5)/2\n",
        "print(f\"x1 = {r2}\")\n",
        "print(f\"x2 = {r1}\")"
      ],
      "execution_count": 9,
      "outputs": [
        {
          "output_type": "stream",
          "text": [
            "x1 = -4.0\n",
            "x2 = -1.0\n"
          ],
          "name": "stdout"
        }
      ]
    },
    {
      "cell_type": "markdown",
      "metadata": {
        "id": "Efb82ISOwC0b"
      },
      "source": [
        "Exercise 10"
      ]
    },
    {
      "cell_type": "code",
      "metadata": {
        "colab": {
          "base_uri": "https://localhost:8080/"
        },
        "id": "NM5IzDSJwGxs",
        "outputId": "e6b7216f-f717-482a-dd93-c30b30966db1"
      },
      "source": [
        "a,b,c,d = 4,3,4.5,5\n",
        "gm = (a*b*c*d)**(0.25)\n",
        "print(f\"Geometric average of the given numbers: {gm:.2f}\")"
      ],
      "execution_count": 10,
      "outputs": [
        {
          "output_type": "stream",
          "text": [
            "Geometric average of the given numbers: 4.05\n"
          ],
          "name": "stdout"
        }
      ]
    },
    {
      "cell_type": "markdown",
      "metadata": {
        "id": "4SyVTsFzwHOe"
      },
      "source": [
        "Exercise 11"
      ]
    },
    {
      "cell_type": "code",
      "metadata": {
        "colab": {
          "base_uri": "https://localhost:8080/"
        },
        "id": "y5ahSz-WwIWr",
        "outputId": "116f6bba-a710-4369-9895-bc7d5e6d4254"
      },
      "source": [
        "a1,a2 = 1,0.5\n",
        "r = a2/a1\n",
        "s_infinity = a1/(1-r)\n",
        "print(f\"The sum of the sequence: {s_infinity:.1f}\")"
      ],
      "execution_count": 11,
      "outputs": [
        {
          "output_type": "stream",
          "text": [
            "The sum of the sequence: 2.0\n"
          ],
          "name": "stdout"
        }
      ]
    },
    {
      "cell_type": "markdown",
      "metadata": {
        "id": "VbgGiylawImf"
      },
      "source": [
        "Exercise 12"
      ]
    },
    {
      "cell_type": "code",
      "metadata": {
        "colab": {
          "base_uri": "https://localhost:8080/"
        },
        "id": "h1jH9mvLwI3j",
        "outputId": "a6ad2202-a872-40b4-a7ce-602482fdf287"
      },
      "source": [
        "l = [10,11,9]\n",
        "lsum = 10+11+9\n",
        "llength = len(l)\n",
        "average = lsum/llength\n",
        "summ= 0\n",
        "for i in l:\n",
        "    a = (i - average)**2\n",
        "    summ = summ+a\n",
        "sigma = (summ/len(l))**0.5\n",
        "print(f\"The standard deviation: {sigma:.2f}\")"
      ],
      "execution_count": 16,
      "outputs": [
        {
          "output_type": "stream",
          "text": [
            "The standard deviation: 0.82\n"
          ],
          "name": "stdout"
        }
      ]
    },
    {
      "cell_type": "markdown",
      "metadata": {
        "id": "RDDYxWmbywMp"
      },
      "source": [
        "I don't know I applied sum() here but it keeps giving error float is not callable. "
      ]
    },
    {
      "cell_type": "code",
      "metadata": {
        "id": "feeIQoDoxOmg"
      },
      "source": [
        ""
      ],
      "execution_count": null,
      "outputs": []
    }
  ]
}